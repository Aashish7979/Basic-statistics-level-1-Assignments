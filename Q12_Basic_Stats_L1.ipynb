{
 "cells": [
  {
   "cell_type": "code",
   "execution_count": 1,
   "id": "4a9630c4",
   "metadata": {
    "ExecuteTime": {
     "end_time": "2021-09-10T20:47:10.388680Z",
     "start_time": "2021-09-10T20:47:08.783724Z"
    }
   },
   "outputs": [],
   "source": [
    "import numpy as np\n",
    "import pandas as pd\n",
    "import matplotlib.pyplot as plt\n",
    "import seaborn as sns"
   ]
  },
  {
   "cell_type": "code",
   "execution_count": 2,
   "id": "c49ea0e2",
   "metadata": {
    "ExecuteTime": {
     "end_time": "2021-09-10T20:47:30.255855Z",
     "start_time": "2021-09-10T20:47:30.237246Z"
    }
   },
   "outputs": [],
   "source": [
    "x=pd.Series([34,36,36,38,38,39,39,40,40,41,41,41,41,42,42,45,49,56])"
   ]
  },
  {
   "cell_type": "code",
   "execution_count": 3,
   "id": "8da9fd43",
   "metadata": {
    "ExecuteTime": {
     "end_time": "2021-09-10T20:47:47.372705Z",
     "start_time": "2021-09-10T20:47:47.357277Z"
    }
   },
   "outputs": [
    {
     "data": {
      "text/plain": [
       "41.0"
      ]
     },
     "execution_count": 3,
     "metadata": {},
     "output_type": "execute_result"
    }
   ],
   "source": [
    "# Mean\n",
    "x.mean()"
   ]
  },
  {
   "cell_type": "code",
   "execution_count": 4,
   "id": "124974e0",
   "metadata": {
    "ExecuteTime": {
     "end_time": "2021-09-10T20:47:55.812629Z",
     "start_time": "2021-09-10T20:47:55.798604Z"
    }
   },
   "outputs": [
    {
     "data": {
      "text/plain": [
       "40.5"
      ]
     },
     "execution_count": 4,
     "metadata": {},
     "output_type": "execute_result"
    }
   ],
   "source": [
    "# Median\n",
    "x.median()"
   ]
  },
  {
   "cell_type": "code",
   "execution_count": 5,
   "id": "48676c44",
   "metadata": {
    "ExecuteTime": {
     "end_time": "2021-09-10T20:48:04.719747Z",
     "start_time": "2021-09-10T20:48:04.704746Z"
    }
   },
   "outputs": [
    {
     "data": {
      "text/plain": [
       "25.529411764705884"
      ]
     },
     "execution_count": 5,
     "metadata": {},
     "output_type": "execute_result"
    }
   ],
   "source": [
    "# Variance\n",
    "x.var()"
   ]
  },
  {
   "cell_type": "code",
   "execution_count": 6,
   "id": "492b3306",
   "metadata": {
    "ExecuteTime": {
     "end_time": "2021-09-10T20:48:13.679025Z",
     "start_time": "2021-09-10T20:48:13.665716Z"
    }
   },
   "outputs": [
    {
     "data": {
      "text/plain": [
       "5.05266382858645"
      ]
     },
     "execution_count": 6,
     "metadata": {},
     "output_type": "execute_result"
    }
   ],
   "source": [
    "# Standard Deviation\n",
    "x.std()"
   ]
  },
  {
   "cell_type": "code",
   "execution_count": 7,
   "id": "87382575",
   "metadata": {
    "ExecuteTime": {
     "end_time": "2021-09-10T20:48:21.712588Z",
     "start_time": "2021-09-10T20:48:21.567234Z"
    },
    "scrolled": true
   },
   "outputs": [
    {
     "data": {
      "text/plain": [
       "{'whiskers': [<matplotlib.lines.Line2D at 0x1f1bbe24b20>,\n",
       "  <matplotlib.lines.Line2D at 0x1f1bbe24e80>],\n",
       " 'caps': [<matplotlib.lines.Line2D at 0x1f1bbe3b220>,\n",
       "  <matplotlib.lines.Line2D at 0x1f1bbe3b580>],\n",
       " 'boxes': [<matplotlib.lines.Line2D at 0x1f1bbe247c0>],\n",
       " 'medians': [<matplotlib.lines.Line2D at 0x1f1bbe3b8e0>],\n",
       " 'fliers': [<matplotlib.lines.Line2D at 0x1f1bbe3bc40>],\n",
       " 'means': []}"
      ]
     },
     "execution_count": 7,
     "metadata": {},
     "output_type": "execute_result"
    },
    {
     "data": {
      "image/png": "[encoded data removed]",
      "text/plain": [
       "<Figure size 432x288 with 1 Axes>"
      ]
     },
     "metadata": {
      "needs_background": "light"
     },
     "output_type": "display_data"
    }
   ],
   "source": [
    "plt.boxplot(x)"
   ]
  },
  {
   "cell_type": "markdown",
   "id": "94d0fec5",
   "metadata": {},
   "source": [
    "Inference: 1. There are 2 Outliars in Student's marks: 49 and 56"
   ]
  }
 ],
 "metadata": {
  "kernelspec": {
   "display_name": "Python 3",
   "language": "python",
   "name": "python3"
  },
  "language_info": {
   "codemirror_mode": {
    "name": "ipython",
    "version": 3
   },
   "file_extension": ".py",
   "mimetype": "text/x-python",
   "name": "python",
   "nbconvert_exporter": "python",
   "pygments_lexer": "ipython3",
   "version": "3.8.8"
  },
  "varInspector": {
   "cols": {
    "lenName": 16,
    "lenType": 16,
    "lenVar": 40
   },
   "kernels_config": {
    "python": {
     "delete_cmd_postfix": "",
     "delete_cmd_prefix": "del ",
     "library": "var_list.py",
     "varRefreshCmd": "print(var_dic_list())"
    },
    "r": {
     "delete_cmd_postfix": ") ",
     "delete_cmd_prefix": "rm(",
     "library": "var_list.r",
     "varRefreshCmd": "cat(var_dic_list()) "
    }
   },
   "types_to_exclude": [
    "module",
    "function",
    "builtin_function_or_method",
    "instance",
    "_Feature"
   ],
   "window_display": false
  }
 },
 "nbformat": 4,
 "nbformat_minor": 5
}
