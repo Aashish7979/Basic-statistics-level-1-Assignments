{
 "cells": [
  {
   "cell_type": "markdown",
   "id": "4b624912",
   "metadata": {
    "ExecuteTime": {
     "end_time": "2021-09-11T09:01:44.323325Z",
     "start_time": "2021-09-11T09:01:44.315314Z"
    }
   },
   "source": [
    "#Calculate the t scores of 95% confidence interval, 96% confidence interval, 99% confidence interval for sample size of 25"
   ]
  },
  {
   "cell_type": "code",
   "execution_count": 2,
   "id": "38ef50da",
   "metadata": {
    "ExecuteTime": {
     "end_time": "2021-09-11T09:02:03.452854Z",
     "start_time": "2021-09-11T09:02:03.158053Z"
    }
   },
   "outputs": [],
   "source": [
    "from scipy import stats\n",
    "from scipy.stats import norm"
   ]
  },
  {
   "cell_type": "code",
   "execution_count": 3,
   "id": "02f5cc06",
   "metadata": {
    "ExecuteTime": {
     "end_time": "2021-09-11T09:02:11.104428Z",
     "start_time": "2021-09-11T09:02:11.084849Z"
    }
   },
   "outputs": [
    {
     "data": {
      "text/plain": [
       "2.0638985616280205"
      ]
     },
     "execution_count": 3,
     "metadata": {},
     "output_type": "execute_result"
    }
   ],
   "source": [
    "# t scores of 95% confidence interval for sample size of 25\n",
    "stats.t.ppf(0.975,24)  # df = n-1 = 24"
   ]
  },
  {
   "cell_type": "code",
   "execution_count": 5,
   "id": "73cc6d35",
   "metadata": {
    "ExecuteTime": {
     "end_time": "2021-09-11T09:02:43.061618Z",
     "start_time": "2021-09-11T09:02:43.045926Z"
    }
   },
   "outputs": [
    {
     "data": {
      "text/plain": [
       "2.1715446760080677"
      ]
     },
     "execution_count": 5,
     "metadata": {},
     "output_type": "execute_result"
    }
   ],
   "source": [
    "# t scores of 96% confidence interval for sample size of 25\n",
    "stats.t.ppf(0.98,24) # df = n-1 = 24"
   ]
  },
  {
   "cell_type": "code",
   "execution_count": 6,
   "id": "7d7e98c8",
   "metadata": {
    "ExecuteTime": {
     "end_time": "2021-09-11T09:03:00.940189Z",
     "start_time": "2021-09-11T09:03:00.928043Z"
    }
   },
   "outputs": [
    {
     "data": {
      "text/plain": [
       "2.796939504772804"
      ]
     },
     "execution_count": 6,
     "metadata": {},
     "output_type": "execute_result"
    }
   ],
   "source": [
    "# t scores of 99% confidence interval for sample size of 25\n",
    "stats.t.ppf(0.995,24) # df = n-1 = 24"
   ]
  },
  {
   "cell_type": "code",
   "execution_count": null,
   "id": "b0be181e",
   "metadata": {},
   "outputs": [],
   "source": []
  }
 ],
 "metadata": {
  "kernelspec": {
   "display_name": "Python 3",
   "language": "python",
   "name": "python3"
  },
  "language_info": {
   "codemirror_mode": {
    "name": "ipython",
    "version": 3
   },
   "file_extension": ".py",
   "mimetype": "text/x-python",
   "name": "python",
   "nbconvert_exporter": "python",
   "pygments_lexer": "ipython3",
   "version": "3.8.8"
  },
  "varInspector": {
   "cols": {
    "lenName": 16,
    "lenType": 16,
    "lenVar": 40
   },
   "kernels_config": {
    "python": {
     "delete_cmd_postfix": "",
     "delete_cmd_prefix": "del ",
     "library": "var_list.py",
     "varRefreshCmd": "print(var_dic_list())"
    },
    "r": {
     "delete_cmd_postfix": ") ",
     "delete_cmd_prefix": "rm(",
     "library": "var_list.r",
     "varRefreshCmd": "cat(var_dic_list()) "
    }
   },
   "types_to_exclude": [
    "module",
    "function",
    "builtin_function_or_method",
    "instance",
    "_Feature"
   ],
   "window_display": false
  }
 },
 "nbformat": 4,
 "nbformat_minor": 5
}
